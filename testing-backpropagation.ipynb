{
 "cells": [
  {
   "cell_type": "code",
   "execution_count": 68,
   "metadata": {},
   "outputs": [],
   "source": [
    "import numpy as np\n",
    "\n",
    "from pprint import pprint\n",
    "from backpropagation import FeedForwardNN\n",
    "from sklearn.neural_network import MLPRegressor"
   ]
  },
  {
   "cell_type": "code",
   "execution_count": 52,
   "metadata": {},
   "outputs": [
    {
     "name": "stdout",
     "output_type": "stream",
     "text": [
      "array([[ 124.89210562],\n",
      "       [  18.51942561],\n",
      "       [ 133.61781931],\n",
      "       [ 142.5984974 ],\n",
      "       [  36.38332548],\n",
      "       [ 170.6542241 ],\n",
      "       [ 178.05321461],\n",
      "       [  63.77735688],\n",
      "       [ 139.66845692],\n",
      "       [ 142.10241273]])\n",
      "array([ 0.69728338,  0.32416631,  0.99499103,  0.94142385,  0.96766078,\n",
      "        0.84588422,  0.85083197,  0.81079193,  0.99124578,  0.66742335])\n"
     ]
    }
   ],
   "source": [
    "training_data = np.array(np.random.random((100, 1)) * 180)\n",
    "training_labels = np.absolute(np.sin(training_data.flatten()))\n",
    "test_data = np.array(np.random.random((20, 1)) * 180)\n",
    "test_labels = np.absolute(np.sin(test_data.flatten()))\n",
    "pprint(training_data[0:10])\n",
    "pprint(training_labels[0:10])"
   ]
  },
  {
   "cell_type": "code",
   "execution_count": 74,
   "metadata": {},
   "outputs": [],
   "source": [
    "ffnn = FeedForwardNN((5, 10, 5), batch_size=10, max_iter=10000, momentum=0.5)\n",
    "ffnn.fit(training_data, training_labels)"
   ]
  },
  {
   "cell_type": "code",
   "execution_count": 71,
   "metadata": {},
   "outputs": [
    {
     "data": {
      "text/plain": [
       "-0.0002545381502541133"
      ]
     },
     "execution_count": 71,
     "metadata": {},
     "output_type": "execute_result"
    }
   ],
   "source": [
    "mlp = MLPRegressor((5, 10, 5), batch_size=10, max_iter=10000, momentum=0.5, \n",
    "                    solver='sgd', learning_rate='constant', learning_rate_init=0.1)\n",
    "mlp.fit(training_data, training_labels)"
   ]
  },
  {
   "cell_type": "code",
   "execution_count": 75,
   "metadata": {},
   "outputs": [
    {
     "name": "stdout",
     "output_type": "stream",
     "text": [
      "0.656807749959 0.984794397142\n",
      "0.656807749959 0.98208371764\n",
      "0.656807749959 0.88866565258\n",
      "0.656807749959 0.483976450814\n",
      "0.656807749959 0.210747213705\n",
      "0.656807749959 0.890022614573\n",
      "0.656807749959 0.106474466983\n",
      "0.656807749959 0.337306588138\n",
      "0.656807749959 0.767380429112\n",
      "0.656807749959 0.399415205638\n",
      "0.656807749959 0.443284748266\n",
      "0.656807749959 0.463140109638\n",
      "0.656807749959 0.758674943801\n",
      "0.656807749959 0.103004909919\n",
      "0.656807749959 0.676498622324\n",
      "0.656807749959 0.926872018708\n",
      "0.656807749959 0.36463340507\n",
      "0.656807749959 0.715338293368\n",
      "0.656807749959 0.907502700209\n",
      "0.656807749959 0.193236493242\n"
     ]
    }
   ],
   "source": [
    "for a, b in zip(mlp.predict(test_data), test_labels):\n",
    "    print(a, b)"
   ]
  },
  {
   "cell_type": "code",
   "execution_count": 76,
   "metadata": {},
   "outputs": [
    {
     "name": "stdout",
     "output_type": "stream",
     "text": [
      "0.660628129412 0.984794397142\n",
      "0.660628129412 0.98208371764\n",
      "0.660628129412 0.88866565258\n",
      "0.660628129412 0.483976450814\n",
      "0.660628129412 0.210747213705\n",
      "0.660628129412 0.890022614573\n",
      "0.660628129412 0.106474466983\n",
      "0.660628129412 0.337306588138\n",
      "0.660628129412 0.767380429112\n",
      "0.660628129412 0.399415205638\n",
      "0.660628129412 0.443284748266\n",
      "0.660628129412 0.463140109638\n",
      "0.660628129412 0.758674943801\n",
      "0.660628872595 0.103004909919\n",
      "0.660628129412 0.676498622324\n",
      "0.660628129413 0.926872018708\n",
      "0.660628129412 0.36463340507\n",
      "0.660628129412 0.715338293368\n",
      "0.660628129412 0.907502700209\n",
      "0.660628129412 0.193236493242\n"
     ]
    }
   ],
   "source": [
    "for a, b in zip(ffnn.predict(test_data), test_labels):\n",
    "    print(a, b)"
   ]
  },
  {
   "cell_type": "code",
   "execution_count": 77,
   "metadata": {},
   "outputs": [
    {
     "name": "stdout",
     "output_type": "stream",
     "text": [
      "0.00897587225176\n"
     ]
    }
   ],
   "source": [
    "print(ffnn.score(training_data, training_labels))"
   ]
  }
 ],
 "metadata": {
  "kernelspec": {
   "display_name": "Python 3",
   "language": "python",
   "name": "python3"
  },
  "language_info": {
   "codemirror_mode": {
    "name": "ipython",
    "version": 3
   },
   "file_extension": ".py",
   "mimetype": "text/x-python",
   "name": "python",
   "nbconvert_exporter": "python",
   "pygments_lexer": "ipython3",
   "version": "3.5.2"
  }
 },
 "nbformat": 4,
 "nbformat_minor": 2
}
