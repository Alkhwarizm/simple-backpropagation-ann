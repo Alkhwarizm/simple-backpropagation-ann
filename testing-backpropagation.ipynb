{
 "cells": [
  {
   "cell_type": "code",
   "execution_count": 1,
   "metadata": {},
   "outputs": [],
   "source": [
    "import numpy as np\n",
    "\n",
    "from pprint import pprint\n",
    "from timeit import timeit\n",
    "from backpropagation import FeedForwardNN\n",
    "from sklearn.neural_network import MLPRegressor"
   ]
  },
  {
   "cell_type": "code",
   "execution_count": 2,
   "metadata": {},
   "outputs": [
    {
     "name": "stdout",
     "output_type": "stream",
     "text": [
      "array([[ 121.53916975],\n",
      "       [   3.09745677],\n",
      "       [  30.77889972],\n",
      "       [ 128.29617522],\n",
      "       [ 117.88201418],\n",
      "       [ 132.19873511],\n",
      "       [ 106.69506929],\n",
      "       [ 108.72276472],\n",
      "       [ 101.20652478],\n",
      "       [ 113.47599574]])\n",
      "array([ 0.8321335 ,  0.04412156,  0.59480803,  0.48741217,  0.99738824,\n",
      "        0.24918988,  0.1187997 ,  0.94348003,  0.62533431,  0.36967592])\n"
     ]
    }
   ],
   "source": [
    "training_data = np.array(np.random.random((100, 1)) * 180)\n",
    "training_labels = np.absolute(np.sin(training_data.flatten()))\n",
    "test_data = np.array(np.random.random((20, 1)) * 180)\n",
    "test_labels = np.absolute(np.sin(test_data.flatten()))\n",
    "pprint(training_data[0:10])\n",
    "pprint(training_labels[0:10])"
   ]
  },
  {
   "cell_type": "code",
   "execution_count": 9,
   "metadata": {},
   "outputs": [],
   "source": [
    "setup = \"\"\"\\\n",
    "import numpy as np\n",
    "from backpropagation import FeedForwardNN\n",
    "from sklearn.neural_network import MLPRegressor\n",
    "\n",
    "training_data = np.array(np.random.random((100, 1)) * 180)\n",
    "training_labels = np.absolute(np.sin(training_data.flatten()))\n",
    "\n",
    "ffnn = FeedForwardNN((5, 10, 5), batch_size=10, max_iter=10000, momentum=0.5)\n",
    "mlp = MLPRegressor((5, 10, 5), batch_size=10, max_iter=10000, momentum=0.5, \n",
    "                    solver='sgd', learning_rate='constant', learning_rate_init=0.1)\n",
    "\"\"\""
   ]
  },
  {
   "cell_type": "code",
   "execution_count": 10,
   "metadata": {},
   "outputs": [
    {
     "data": {
      "text/plain": [
       "49.139244537000195"
      ]
     },
     "execution_count": 10,
     "metadata": {},
     "output_type": "execute_result"
    }
   ],
   "source": [
    "timeit('ffnn.fit(training_data, training_labels)', setup=setup, number=10)"
   ]
  },
  {
   "cell_type": "code",
   "execution_count": 12,
   "metadata": {},
   "outputs": [
    {
     "name": "stderr",
     "output_type": "stream",
     "text": [
      "/usr/local/lib/python3.5/dist-packages/sklearn/neural_network/_base.py:194: RuntimeWarning: overflow encountered in square\n",
      "  return ((y_true - y_pred) ** 2).mean() / 2\n",
      "/usr/local/lib/python3.5/dist-packages/sklearn/neural_network/multilayer_perceptron.py:564: ConvergenceWarning: Stochastic Optimizer: Maximum iterations (10000) reached and the optimization hasn't converged yet.\n",
      "  % self.max_iter, ConvergenceWarning)\n"
     ]
    },
    {
     "data": {
      "text/plain": [
       "98.55502902099397"
      ]
     },
     "execution_count": 12,
     "metadata": {},
     "output_type": "execute_result"
    }
   ],
   "source": [
    "timeit('mlp.fit(training_data, training_labels)', setup=setup, number=10)"
   ]
  },
  {
   "cell_type": "code",
   "execution_count": null,
   "metadata": {},
   "outputs": [],
   "source": [
    "ffnn = FeedForwardNN((5, 10, 5), batch_size=10, max_iter=10000, momentum=0.5)\n",
    "ffnn.fit(training_data, training_labels)"
   ]
  },
  {
   "cell_type": "code",
   "execution_count": 71,
   "metadata": {},
   "outputs": [
    {
     "data": {
      "text/plain": [
       "-0.0002545381502541133"
      ]
     },
     "execution_count": 71,
     "metadata": {},
     "output_type": "execute_result"
    }
   ],
   "source": [
    "mlp = MLPRegressor((5, 10, 5), batch_size=10, max_iter=10000, momentum=0.5, \n",
    "                    solver='sgd', learning_rate='constant', learning_rate_init=0.1)\n",
    "mlp.fit(training_data, training_labels)"
   ]
  },
  {
   "cell_type": "code",
   "execution_count": 75,
   "metadata": {},
   "outputs": [
    {
     "name": "stdout",
     "output_type": "stream",
     "text": [
      "0.656807749959 0.984794397142\n",
      "0.656807749959 0.98208371764\n",
      "0.656807749959 0.88866565258\n",
      "0.656807749959 0.483976450814\n",
      "0.656807749959 0.210747213705\n",
      "0.656807749959 0.890022614573\n",
      "0.656807749959 0.106474466983\n",
      "0.656807749959 0.337306588138\n",
      "0.656807749959 0.767380429112\n",
      "0.656807749959 0.399415205638\n",
      "0.656807749959 0.443284748266\n",
      "0.656807749959 0.463140109638\n",
      "0.656807749959 0.758674943801\n",
      "0.656807749959 0.103004909919\n",
      "0.656807749959 0.676498622324\n",
      "0.656807749959 0.926872018708\n",
      "0.656807749959 0.36463340507\n",
      "0.656807749959 0.715338293368\n",
      "0.656807749959 0.907502700209\n",
      "0.656807749959 0.193236493242\n"
     ]
    }
   ],
   "source": [
    "for a, b in zip(mlp.predict(test_data), test_labels):\n",
    "    print(a, b)"
   ]
  },
  {
   "cell_type": "code",
   "execution_count": 76,
   "metadata": {},
   "outputs": [
    {
     "name": "stdout",
     "output_type": "stream",
     "text": [
      "0.660628129412 0.984794397142\n",
      "0.660628129412 0.98208371764\n",
      "0.660628129412 0.88866565258\n",
      "0.660628129412 0.483976450814\n",
      "0.660628129412 0.210747213705\n",
      "0.660628129412 0.890022614573\n",
      "0.660628129412 0.106474466983\n",
      "0.660628129412 0.337306588138\n",
      "0.660628129412 0.767380429112\n",
      "0.660628129412 0.399415205638\n",
      "0.660628129412 0.443284748266\n",
      "0.660628129412 0.463140109638\n",
      "0.660628129412 0.758674943801\n",
      "0.660628872595 0.103004909919\n",
      "0.660628129412 0.676498622324\n",
      "0.660628129413 0.926872018708\n",
      "0.660628129412 0.36463340507\n",
      "0.660628129412 0.715338293368\n",
      "0.660628129412 0.907502700209\n",
      "0.660628129412 0.193236493242\n"
     ]
    }
   ],
   "source": [
    "for a, b in zip(ffnn.predict(test_data), test_labels):\n",
    "    print(a, b)"
   ]
  },
  {
   "cell_type": "code",
   "execution_count": 77,
   "metadata": {},
   "outputs": [
    {
     "name": "stdout",
     "output_type": "stream",
     "text": [
      "0.00897587225176\n"
     ]
    }
   ],
   "source": [
    "print(ffnn.score(training_data, training_labels))"
   ]
  }
 ],
 "metadata": {
  "kernelspec": {
   "display_name": "Python 3",
   "language": "python",
   "name": "python3"
  },
  "language_info": {
   "codemirror_mode": {
    "name": "ipython",
    "version": 3
   },
   "file_extension": ".py",
   "mimetype": "text/x-python",
   "name": "python",
   "nbconvert_exporter": "python",
   "pygments_lexer": "ipython3",
   "version": "3.5.2"
  }
 },
 "nbformat": 4,
 "nbformat_minor": 2
}
